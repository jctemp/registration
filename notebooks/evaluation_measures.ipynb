{
 "cells": [
  {
   "cell_type": "code",
   "execution_count": null,
   "id": "initial_id",
   "metadata": {
    "collapsed": true
   },
   "outputs": [],
   "source": [
    "WANDB_PROJECT = \"temple/lung-registration\""
   ]
  },
  {
   "cell_type": "code",
   "execution_count": null,
   "outputs": [],
   "source": [
    "import sys\n",
    "\n",
    "sys.path.append('../')\n",
    "\n",
    "import wandb\n",
    "import numpy as np\n",
    "import pandas as pd"
   ],
   "metadata": {
    "collapsed": false
   },
   "id": "129120e79a837e45"
  },
  {
   "cell_type": "code",
   "execution_count": null,
   "outputs": [],
   "source": [
    "def to_string(x):\n",
    "    x = np.array(x)\n",
    "    x = x.flatten()\n",
    "    s = \"-\".join(x)\n",
    "    return s\n",
    "\n",
    "\n",
    "def is_any_element_in_list(list1, list2):\n",
    "    for element in list1:\n",
    "        if f\"test_{element}\" in list2:\n",
    "            return True\n",
    "    return False"
   ],
   "metadata": {
    "collapsed": false
   },
   "id": "2ceacbfe47903a87"
  },
  {
   "cell_type": "code",
   "execution_count": null,
   "outputs": [],
   "source": [
    "def main_fetch_values(tags=None):\n",
    "    api = wandb.Api()\n",
    "    runs_wandb = api.runs(WANDB_PROJECT)\n",
    "    runs_dict = {}\n",
    "    for run in runs_wandb:\n",
    "        if tags is None or is_any_element_in_list(tags, run.tags) or \"identity\" in run.tags:\n",
    "            run_dict = {\"name\": run.id}\n",
    "\n",
    "            exclude_patterns = [\"weights\", \"gradients\", \"step\", \"_wandb\", \"_timestamp\", \"graph\", \"val_loss_epoch\",\n",
    "                                \"train_loss_epoch\"]\n",
    "\n",
    "            # Update the dictionary while excluding keys with specific patterns\n",
    "            def should_include_key(key):\n",
    "                for pattern in exclude_patterns:\n",
    "                    if pattern in key:\n",
    "                        return False\n",
    "                return True\n",
    "\n",
    "            # .summary contains the output keys/values for metrics like accuracy.\n",
    "            #  We call ._json_dict to omit large files \n",
    "            run_dict.update({f\"m_{k}\": v for k, v in run.summary._json_dict.items() if should_include_key(k)})\n",
    "\n",
    "            # .config contains the hyperparameters.\n",
    "            #  We remove special values that start with _.\n",
    "            run_dict.update(\n",
    "                {f\"h_{k}\": v for k, v in run.config.items()\n",
    "                 if not k.startswith(\"_\")})\n",
    "\n",
    "            # .name is the human-readable name of the run.\n",
    "            runs_dict.update({run.name: run_dict})\n",
    "\n",
    "    runs_df = pd.DataFrame(runs_dict)\n",
    "    runs_df = runs_df.transpose()\n",
    "\n",
    "    runs_df[\"h_criteria_warped\"] = runs_df[\"h_criteria_warped\"].apply(to_string)\n",
    "    runs_df[\"h_criteria_flow\"] = runs_df[\"h_criteria_flow\"].apply(to_string)\n",
    "    runs_df[\"m_duration_hours\"] = runs_df[\"m__runtime\"] / 3600\n",
    "    runs_df.drop(columns=[\"m__runtime\"], inplace=True)\n",
    "    runs_df = runs_df.reindex(sorted(runs_df.columns), axis=1)\n",
    "    runs_df = runs_df.transpose()\n",
    "    return runs_df"
   ],
   "metadata": {
    "collapsed": false
   },
   "id": "4c76188b130994b8"
  },
  {
   "cell_type": "code",
   "execution_count": null,
   "outputs": [],
   "source": [
    "runs = main_fetch_values([\n",
    "    # \"criteria_warped\",\n",
    "    # \"criteria_warped_mul\",\n",
    "    # \"criteria_flow\",  # make weight adjustment later :) hyperparameter optimisation lmao\n",
    "    # \"registration_depth\",\n",
    "    # \"registration_sampling\",\n",
    "    # \"registration_target\",\n",
    "    # \"registration_stride\",\n",
    "    \"identity_loss\",\n",
    "    \"temporal_dependence\"\n",
    "])\n",
    "runs = runs.transpose()\n",
    "id_run = runs.loc[\"transmorph-identity\"]\n",
    "\n",
    "runs[\"m_score\"] = (\n",
    "        (\n",
    "            (runs['m_mse_mean_epoch'] - id_run['m_mse_mean_epoch']) / (0.0 - id_run['m_mse_mean_epoch'])\n",
    "        ) * 0.45 +\n",
    "        (\n",
    "            (runs['m_ssim_mean_epoch'] - id_run['m_ssim_mean_epoch']) / (1.0 - id_run['m_ssim_mean_epoch'])\n",
    "        ) * 0.45 +\n",
    "        (\n",
    "            1.0 - (runs['m_perc_neg_jac_det_mean_epoch'] / runs['m_perc_neg_jac_det_mean_epoch'].max())\n",
    "        ) * 0.05 +\n",
    "        (\n",
    "            1.0 - (runs['m_duration_hours'] / runs['m_duration_hours'].max())\n",
    "        ) * 0.05\n",
    ")\n",
    "runs = runs.sort_values(\"m_score\", ascending=False)\n",
    "runs\n"
   ],
   "metadata": {
    "collapsed": false
   },
   "id": "54f03b1b3b0aca8f"
  },
  {
   "cell_type": "code",
   "execution_count": null,
   "outputs": [],
   "source": [],
   "metadata": {
    "collapsed": false
   },
   "id": "eee43bc9b81542ae"
  }
 ],
 "metadata": {
  "kernelspec": {
   "display_name": "Python 3",
   "language": "python",
   "name": "python3"
  },
  "language_info": {
   "codemirror_mode": {
    "name": "ipython",
    "version": 2
   },
   "file_extension": ".py",
   "mimetype": "text/x-python",
   "name": "python",
   "nbconvert_exporter": "python",
   "pygments_lexer": "ipython2",
   "version": "2.7.6"
  }
 },
 "nbformat": 4,
 "nbformat_minor": 5
}
