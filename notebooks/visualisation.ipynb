{
 "cells": [
  {
   "cell_type": "code",
   "execution_count": null,
   "id": "0fd049a5-8a01-4e0c-849b-c9a8d3ee7e29",
   "metadata": {},
   "outputs": [],
   "source": [
    "import sys\n",
    "sys.path.append('../')"
   ]
  },
  {
   "cell_type": "code",
   "execution_count": null,
   "id": "d9d14198-a6c7-4d80-ae7b-8f7364d802b6",
   "metadata": {},
   "outputs": [],
   "source": [
    "import matplotlib.animation as animation\n",
    "import matplotlib.pyplot as plt\n",
    "import numpy as np\n",
    "from pathlib2 import Path\n",
    "from dataset import reader\n",
    "\n",
    "plt.rcParams[\"animation.html\"] = \"jshtml\"\n",
    "plt.rcParams[\"animation.embed_limit\"] = 2048\n",
    "plt.rcParams['figure.dpi'] = 150\n",
    "%matplotlib inline"
   ]
  },
  {
   "cell_type": "markdown",
   "id": "95b97038-88ee-46b8-9d9c-e1c9e54deb95",
   "metadata": {},
   "source": [
    "## Load data"
   ]
  },
  {
   "cell_type": "code",
   "execution_count": null,
   "id": "d3028736-12bc-4d98-8492-a2afce3975c2",
   "metadata": {},
   "outputs": [],
   "source": [
    "root = Path(\"/media/agjvc_rad3/_TESTKOLLEKTIV/Daten/Daten/Feldstärke_P1_1_5T/Series1/\")\n",
    "original_path = root / \"dicoms.mat\"\n",
    "ant_path = root / \"images_reg_av/dicoms.mat\"\n",
    "tm_path = root / \"images_reg_av_transmorph/dicoms.mat\"\n",
    "\n",
    "original_data = reader(original_path)[0].transpose(2,0,1)\n",
    "ant_data = reader(ant_path)[0].transpose(2,0,1)\n",
    "tm_data = reader(tm_path)[0].transpose(2,0,1)"
   ]
  },
  {
   "cell_type": "markdown",
   "id": "d9a6cc26-5b69-4234-a799-b4cdc60b770b",
   "metadata": {},
   "source": [
    "## Visualisation"
   ]
  },
  {
   "cell_type": "code",
   "execution_count": null,
   "id": "e67ec4ba-ad13-48f5-a3f5-e0ed52a6633d",
   "metadata": {},
   "outputs": [],
   "source": [
    "num_cols = 3\n",
    "num_rows = 1\n",
    "fig, axs = plt.subplots(ncols=num_cols, nrows=num_rows, figsize=(2 * num_cols, 2 * num_rows))\n",
    "axs = axs.flatten()\n",
    "images = []\n",
    "\n",
    "axs[0].set(title=r\"Original\")\n",
    "axs[1].set(title=r\"A.N.T.\")\n",
    "axs[2].set(title=r\"TransMorph\")\n",
    "\n",
    "for k in range(num_cols):\n",
    "    axs[k].set(xticklabels=[], yticklabels=[], xticks=[], yticks=[], aspect=\"equal\")\n",
    "\n",
    "images.append(axs[0].imshow(original_data[0], cmap=\"gray\", animated=True))\n",
    "images.append(axs[1].imshow(ant_data[0], cmap=\"gray\", animated=True))\n",
    "images.append(axs[2].imshow(tm_data[0], cmap=\"gray\", animated=True))\n",
    "\n",
    "def animate(delta):\n",
    "    images[0].set_data(original_data[delta])\n",
    "    images[1].set_data(ant_data[delta])\n",
    "    images[2].set_data(tm_data[delta])\n",
    "    return images\n",
    "\n",
    "animation.FuncAnimation(fig, animate, frames=200, blit=True)"
   ]
  },
  {
   "cell_type": "markdown",
   "id": "660a7fb3-7df1-4400-9777-5a64532df22d",
   "metadata": {},
   "source": [
    "## Analysis"
   ]
  },
  {
   "cell_type": "code",
   "execution_count": null,
   "id": "1616f4d6-ad29-4584-9d02-6d5e1d7382a5",
   "metadata": {},
   "outputs": [],
   "source": [
    "def calculate_stats(image):\n",
    "    image_means = image.mean(axis=(1, 2))\n",
    "    image_vars = image.var(axis=(1, 2))\n",
    "    return image_means, image_vars"
   ]
  },
  {
   "cell_type": "code",
   "execution_count": null,
   "id": "751a3a80-5ede-4868-aef8-05a245e04e1d",
   "metadata": {},
   "outputs": [],
   "source": [
    "image_means, image_vars = calculate_stats(original_data)"
   ]
  },
  {
   "cell_type": "code",
   "execution_count": null,
   "id": "17c4bec2-e4d2-4ef0-b256-1a2fef55fd1d",
   "metadata": {
    "scrolled": true
   },
   "outputs": [],
   "source": [
    "figsize=(16,5)\n",
    "\n",
    "fig, ax = plt.subplots(1, 2, figsize=figsize)\n",
    "fig.set_tight_layout(True)\n",
    "ax = ax.flatten()\n",
    "\n",
    "ax[0].set_title(\"Mean\")\n",
    "ax[1].set_title(\"Variance\")\n",
    "\n",
    "ax[0].plot(image_means, \"-\", lw=1)\n",
    "ax[1].plot(image_vars, \"-\", lw=1)\n",
    "\n",
    "plt.show()\n",
    "plt.close()"
   ]
  },
  {
   "cell_type": "code",
   "execution_count": null,
   "id": "a9e24cce-cf0f-4c90-8ff5-5a29b40c152d",
   "metadata": {},
   "outputs": [],
   "source": []
  }
 ],
 "metadata": {
  "kernelspec": {
   "display_name": "Python 3 (ipykernel)",
   "language": "python",
   "name": "python3"
  },
  "language_info": {
   "codemirror_mode": {
    "name": "ipython",
    "version": 3
   },
   "file_extension": ".py",
   "mimetype": "text/x-python",
   "name": "python",
   "nbconvert_exporter": "python",
   "pygments_lexer": "ipython3",
   "version": "3.10.4"
  }
 },
 "nbformat": 4,
 "nbformat_minor": 5
}
