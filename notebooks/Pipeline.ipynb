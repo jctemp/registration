{
 "cells": [
  {
   "cell_type": "code",
   "execution_count": null,
   "id": "8684006a-5bd0-4176-9820-ba6c860a7570",
   "metadata": {},
   "outputs": [],
   "source": [
    "import os, glob, torch\n",
    "import numpy as np\n",
    "import scipy.io as spio\n",
    "from torch.utils.data import Dataset\n",
    "\n",
    "class LungDataset(Dataset):\n",
    "    def __init__(self):\n",
    "        samples = glob.glob(\"/media/agjvc_rad3/_TESTKOLLEKTIV/Daten/Daten/*\")\n",
    "        series = [glob.glob(os.path.join(sample, \"Series*/dicoms.mat\")) for sample in samples]\n",
    "        slices = [s[int(len(s) / 2)] for s in series if len(s) > 0]\n",
    "        self.slices = slices\n",
    "\n",
    "    def __len__(self):\n",
    "        return len(self.slices)\n",
    "    \n",
    "    def __getitem__(self, idx):\n",
    "        path = self.slices[idx]\n",
    "        dcm = spio.loadmat(path)[\"dcm\"].astype(np.int32) # must be int32 as uint16 is not supported and 32bit required for safe upcast\n",
    "        tensor = torch.from_numpy(dcm)\n",
    "        x = torch.permute(tensor, (1,2,0))[None, :, :, :] # C, W, H, t\n",
    "\n",
    "        return x"
   ]
  },
  {
   "cell_type": "code",
   "execution_count": null,
   "id": "c8a5fd9a-c8eb-452a-82e6-179564f92df6",
   "metadata": {
    "jupyter": {
     "source_hidden": true
    }
   },
   "outputs": [],
   "source": [
    "%%script echo \"SKIP\"\n",
    "import matplotlib.pyplot as plt\n",
    "\n",
    "dataset = LungDataset()\n",
    "sample = dataset[10]\n",
    "print(sample.shape)\n",
    "fig, ax = plt.subplots(3, 10, figsize=(30, 10))\n",
    "for i in range(3):\n",
    "    for j in range(10):\n",
    "        f = sample[:,:,:, i * j + j]\n",
    "        ax[i][j].imshow(f.view(256,256), cmap=\"gray\")"
   ]
  },
  {
   "cell_type": "code",
   "execution_count": null,
   "id": "abbe4f81-e692-4c58-bc79-dc027f95f546",
   "metadata": {},
   "outputs": [],
   "source": [
    "import torch\n",
    "import pytorch_lightning as pl\n",
    "from torch.utils.data import random_split\n",
    "\n",
    "class LungDataModule(pl.LightningDataModule):\n",
    "    def __init__(self):\n",
    "        self.dataset = None\n",
    "        self.train_data = None\n",
    "        self.val_data = None\n",
    "        self.test_data = None\n",
    "    \n",
    "    def prepare_date(self):\n",
    "        # not needed as the data is not downloaded\n",
    "        pass\n",
    "\n",
    "    def setup(self, stage=None):\n",
    "        self.dataset = LungDataset()\n",
    "        generator = torch.Generator().manual_seed(42)\n",
    "\n",
    "        total_len = len(self.dataset)\n",
    "        train_len = int(total_len * 0.8)\n",
    "        val_len = int(total_len * 0.1)\n",
    "        test_len = total_len - (train_len + val_len)\n",
    "        \n",
    "        self.train_data, self.val_data, self.test_data = random_split(\n",
    "            dataset = self.dataset, \n",
    "            lengths = [train_len, val_len, test_len], \n",
    "            generator = generator\n",
    "        )\n",
    "\n",
    "    def train_dataloader(self):\n",
    "        return DataLoader(self.train_data, batch_size=1)\n",
    "\n",
    "    def val_dataloader(self):\n",
    "        return DataLoader(self.val_data, batch_size=1)\n",
    "\n",
    "    def test_dataloader(self):\n",
    "        return DataLoader(self.test_data, batch_size=1)"
   ]
  },
  {
   "cell_type": "code",
   "execution_count": null,
   "id": "21b0a610-325b-4f2c-b880-387b293a82b1",
   "metadata": {},
   "outputs": [],
   "source": []
  }
 ],
 "metadata": {
  "kernelspec": {
   "display_name": "Python 3 (ipykernel)",
   "language": "python",
   "name": "python3"
  },
  "language_info": {
   "codemirror_mode": {
    "name": "ipython",
    "version": 3
   },
   "file_extension": ".py",
   "mimetype": "text/x-python",
   "name": "python",
   "nbconvert_exporter": "python",
   "pygments_lexer": "ipython3",
   "version": "3.10.4"
  }
 },
 "nbformat": 4,
 "nbformat_minor": 5
}
