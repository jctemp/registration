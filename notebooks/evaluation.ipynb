{
 "cells": [
  {
   "cell_type": "markdown",
   "id": "f402d4ec16c37205",
   "metadata": {
    "collapsed": false
   },
   "source": [
    "# Imports"
   ]
  },
  {
   "cell_type": "code",
   "execution_count": null,
   "id": "3a7d3765-786b-4d4b-b405-37847e546235",
   "metadata": {},
   "outputs": [],
   "source": [
    "import sys\n",
    "sys.path.append('../')"
   ]
  },
  {
   "cell_type": "code",
   "execution_count": null,
   "id": "initial_id",
   "metadata": {},
   "outputs": [],
   "source": [
    "import os\n",
    "\n",
    "from pathlib2 import Path\n",
    "import matplotlib.animation as animation\n",
    "import matplotlib.pyplot as plt\n",
    "import pytorch_lightning as pl\n",
    "import torch\n",
    "\n",
    "from reg.data import LungDataModule\n",
    "from reg.model import TransMorphModuleBuilder\n",
    "\n",
    "plt.rcParams[\"animation.html\"] = \"jshtml\"\n",
    "plt.rcParams[\"animation.embed_limit\"] = 2048\n",
    "plt.rcParams['figure.dpi'] = 150\n",
    "%matplotlib inline"
   ]
  },
  {
   "cell_type": "markdown",
   "id": "92f8aa9362404dd8",
   "metadata": {
    "collapsed": false
   },
   "source": [
    "# Load models"
   ]
  },
  {
   "cell_type": "code",
   "execution_count": null,
   "outputs": [],
   "source": [
    "def load_best_model(ckpt_dir):\n",
    "    ckpt_dir = Path(ckpt_dir)\n",
    "    ckpt_file_names = sorted([c.name for c in ckpt_dir.glob(\"*.ckpt\")], reverse=True)\n",
    "    \n",
    "    best_ckpt = ckpt_dir / ckpt_file_names[0]\n",
    "    val_loss, epoch = ckpt_file_names[0].split(\"&\")\n",
    "    val_loss = val_loss.split(\"=\")[1]\n",
    "    epoch = epoch.split(\"=\")[1].split(\".\")[0]\n",
    "    \n",
    "    model, config = TransMorphModuleBuilder.from_ckpt(str(best_ckpt), True).build()\n",
    "\n",
    "    print(\"=\" * 80)\n",
    "    print(f\"Best performing model\")\n",
    "    print(\"\")\n",
    "    print(f\"  val_loss                  = {val_loss}\")\n",
    "    print(f\"  epoch                     = {epoch}\")\n",
    "    print(\"\")\n",
    "    for k,v in config.items():\n",
    "        print(f\"  {k:<25} = {v}\")\n",
    "    print(\"\")\n",
    "    print(\"=\" * 80)\n",
    "    \n",
    "    return model"
   ],
   "metadata": {
    "collapsed": false
   },
   "id": "affc0fe481b4f05d"
  },
  {
   "cell_type": "code",
   "execution_count": null,
   "id": "ccbc23414e05270c",
   "metadata": {
    "collapsed": false
   },
   "outputs": [],
   "source": [
    "ckpt_dirs = [\n",
    "    \"../model_weights_v3/network_transmorph-tiny.criteria-warped_gmi-1.criteria-flow_gl2d-1.reg-strategy_soreg.reg-target_last.reg-depth_32.ident-loss_False.optimizer_adam.learning-rate_1E-04/\"\n",
    "]"
   ]
  },
  {
   "cell_type": "code",
   "execution_count": null,
   "id": "b6171d8dd7f85036",
   "metadata": {
    "collapsed": false
   },
   "outputs": [],
   "source": [
    "loaded = [load_best_model(ckpt_dir) for ckpt_dir in ckpt_dirs]\n",
    "models = [model for model in loaded]"
   ]
  },
  {
   "cell_type": "markdown",
   "id": "d7ae1702cc784ca9",
   "metadata": {
    "collapsed": false
   },
   "source": [
    "# Run predictions"
   ]
  },
  {
   "cell_type": "code",
   "execution_count": null,
   "id": "95784f38c4e80dcc",
   "metadata": {
    "collapsed": false
   },
   "outputs": [],
   "source": [
    "n_available_cores = len(os.sched_getaffinity(0)) - 1\n",
    "n_available_cores = 1 if n_available_cores == 0 else n_available_cores\n",
    "data_module = LungDataModule(\n",
    "            root_dir=\"/media/agjvc_rad3/_TESTKOLLEKTIV/Daten/Daten\",\n",
    "            split=(0.7, 0.1, 0.2),\n",
    "            seed=42,\n",
    "            pin_memory=True,\n",
    "            num_workers=n_available_cores,\n",
    "        )\n",
    "data_module.setup()\n",
    "data_loader = data_module.test_dataloader()"
   ]
  },
  {
   "cell_type": "code",
   "execution_count": null,
   "id": "3e73a6ad05dbc9c9",
   "metadata": {
    "collapsed": false
   },
   "outputs": [],
   "source": [
    "trainer = pl.Trainer()\n",
    "torch.set_float32_matmul_precision(\"high\")"
   ]
  },
  {
   "cell_type": "code",
   "execution_count": null,
   "id": "5cba84892038301",
   "metadata": {
    "collapsed": false
   },
   "outputs": [],
   "source": [
    "%%script echo \"No action\"\n",
    "results = [trainer.test(model, data_loader) for model in models]\n",
    "results"
   ]
  },
  {
   "cell_type": "code",
   "execution_count": null,
   "id": "ddda71093f0a505d",
   "metadata": {
    "collapsed": false
   },
   "outputs": [],
   "source": [
    "# may require resources big times\n",
    "predictions = [trainer.predict(model, data_loader) for model in models]"
   ]
  },
  {
   "cell_type": "markdown",
   "id": "8281c9e03039fb15",
   "metadata": {
    "collapsed": false
   },
   "source": [
    "# Create visualisation"
   ]
  },
  {
   "cell_type": "code",
   "execution_count": null,
   "id": "31a871d54f17880",
   "metadata": {
    "collapsed": false
   },
   "outputs": [],
   "source": [
    "def transform(warped_series, flow_series, fixed_image):\n",
    "    # re-order channels of outputs (t, w, h, c)\n",
    "    warped_series = warped_series[0].detach().cpu().permute(dim)\n",
    "    flow_series = flow_series[0].detach().cpu().permute(dim)\n",
    "\n",
    "    # create diff map using comparison to neighbour\n",
    "    abs_diff_series = torch.stack([torch.abs(w - fixed_image) for w in warped_series], dim=0)\n",
    "\n",
    "    # create displacement vector field colour map\n",
    "    flow_series = torch.tanh(flow_series[:, :, :])\n",
    "    flows_x = (flow_series[:, :, :, 0] + 1) / 2\n",
    "    flows_y = (flow_series[:, :, :, 1] + 1) / 2\n",
    "    flows_z = flows_x * 0\n",
    "    flow_series = torch.stack([flows_x, flows_y, flows_z], dim=-1)\n",
    "    \n",
    "    return fixed_image, warped_series, flow_series, abs_diff_series"
   ]
  },
  {
   "cell_type": "code",
   "execution_count": null,
   "id": "2fbd8813a62c2d29",
   "metadata": {
    "collapsed": false
   },
   "outputs": [],
   "source": [
    "nums = [0]\n",
    "subset_moving = []\n",
    "subsets_warped = [] \n",
    "\n",
    "for pred in predictions:\n",
    "    subsets_warped.append([pred[i] for i in nums])\n",
    "\n",
    "for i, batch in enumerate(data_loader):\n",
    "    if i in nums:\n",
    "        subset_moving.append(batch)"
   ]
  },
  {
   "cell_type": "code",
   "execution_count": null,
   "id": "d1040fd44e90f0d2",
   "metadata": {
    "collapsed": false
   },
   "outputs": [],
   "source": [
    "show_title = True\n",
    "data = []\n",
    "dim = (3, 1, 2, 0)\n",
    "\n",
    "for i, moving in enumerate(subset_moving):\n",
    "    moving_p = moving[0].detach().cpu().permute(dim)\n",
    "    transformed = [transform(subset_warped[i][0], subset_warped[i][1], models[k].extract_fixed_image(moving)[0].permute((1,2,0))) for k, subset_warped in\n",
    "                   enumerate(subsets_warped)]\n",
    "    data.append((moving_p, transformed))"
   ]
  },
  {
   "cell_type": "code",
   "execution_count": null,
   "id": "f8bc8487c3086d85",
   "metadata": {
    "collapsed": false
   },
   "outputs": [],
   "source": [
    "num_cols = 5\n",
    "num_rows = len(nums) * len(predictions)\n",
    "fig, axs = plt.subplots(ncols=num_cols, nrows=num_rows, figsize=(2 * num_cols, 2 * num_rows))\n",
    "axs = axs.flatten()\n",
    "images = []\n",
    "\n",
    "for i in range(len(nums)):\n",
    "    row_offset = i * num_cols * len(predictions)\n",
    "    \n",
    "    if show_title and i == 0:       \n",
    "        axs[row_offset + 0].set(title=r\"$\\mathit{m}$\")\n",
    "        axs[row_offset + 1].set(title=r\"$\\mathit{f}$\")\n",
    "        axs[row_offset + 2].set(title=r\"$\\mathit{m \\circ \\phi}$\")\n",
    "        axs[row_offset + 3].set(title=r\"$\\mathit{\\left| \\; (m \\circ \\phi) - f \\; \\right|}$\")\n",
    "        axs[row_offset + 4].set(title=r\"$\\mathit{\\phi}$\")\n",
    "\n",
    "    m, t = data[i]\n",
    "\n",
    "    for k in range(num_cols * len(predictions)):\n",
    "        axs[row_offset + k].set(xticklabels=[], yticklabels=[], xticks=[], yticks=[], aspect=\"equal\")\n",
    "\n",
    "    for k in range(len(predictions)):\n",
    "        f, ws, fs, ds = t[k]\n",
    "        images.append(axs[row_offset + k * num_cols + 0].imshow(m[0], cmap=\"gray\", animated=True))\n",
    "        images.append(axs[row_offset + k * num_cols + 1].imshow(f, cmap=\"gray\"))\n",
    "        images.append(axs[row_offset + k * num_cols + 2].imshow(ws[0], cmap=\"gray\", animated=True))\n",
    "        images.append(axs[row_offset + k * num_cols + 3].imshow(ds[0], cmap=\"gray\", animated=True))\n",
    "        images.append(axs[row_offset + k * num_cols + 4].imshow(fs[0], cmap=\"gray\", animated=True))\n",
    "\n",
    "def animate(delta):\n",
    "    for i in range(len(nums)):\n",
    "        row_offset = i * num_cols * len(predictions)\n",
    "        m, t = data[i]    \n",
    "\n",
    "        for k in range(len(predictions)):\n",
    "            _, ws, fs, ds = t[k]\n",
    "            images[row_offset + k * num_cols + 0].set_data(m[delta])\n",
    "            images[row_offset + k * num_cols + 2].set_data(ws[delta])\n",
    "            images[row_offset + k * num_cols + 3].set_data(ds[delta])\n",
    "            images[row_offset + k * num_cols + 4].set_data(fs[delta])\n",
    "\n",
    "    return images\n",
    "\n",
    "animation.FuncAnimation(fig, animate, frames=200, blit=True)"
   ]
  }
 ],
 "metadata": {
  "kernelspec": {
   "display_name": "Python 3 (ipykernel)",
   "language": "python",
   "name": "python3"
  },
  "language_info": {
   "codemirror_mode": {
    "name": "ipython",
    "version": 3
   },
   "file_extension": ".py",
   "mimetype": "text/x-python",
   "name": "python",
   "nbconvert_exporter": "python",
   "pygments_lexer": "ipython3",
   "version": "3.10.4"
  }
 },
 "nbformat": 4,
 "nbformat_minor": 5
}
