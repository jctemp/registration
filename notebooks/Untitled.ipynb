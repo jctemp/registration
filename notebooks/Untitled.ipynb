{
 "cells": [
  {
   "cell_type": "code",
   "execution_count": 1,
   "id": "9bf9bf81-3499-4a89-9d7d-b33860637225",
   "metadata": {},
   "outputs": [],
   "source": [
    "import sys\n",
    "sys.path.append('../')"
   ]
  },
  {
   "cell_type": "code",
   "execution_count": 2,
   "id": "5534ce38-cdf0-4ddb-95e5-3fb9e9263309",
   "metadata": {},
   "outputs": [],
   "source": [
    "from reg.data.dataset import LungDataset"
   ]
  },
  {
   "cell_type": "code",
   "execution_count": 6,
   "id": "879fe435-5bfc-430a-8c1e-948f9a01585b",
   "metadata": {},
   "outputs": [],
   "source": [
    "ds = LungDataset(\n",
    "            root_dir=\"/media/agjvc_rad3/_TESTKOLLEKTIV/Daten/Daten\",\n",
    "            max_series_length=64,\n",
    "            split=(0.8, 0.1, 0.1),\n",
    "            seed=32,\n",
    "            transform=None,\n",
    "            train=True,\n",
    "            val=False,\n",
    "            test=False,\n",
    "        )"
   ]
  },
  {
   "cell_type": "code",
   "execution_count": 9,
   "id": "9cfbd0e4-9b2d-4503-9a6c-e3e29be33445",
   "metadata": {},
   "outputs": [
    {
     "data": {
      "text/plain": [
       "['/media/agjvc_rad3/_TESTKOLLEKTIV/Daten/Daten/Proband_04_Fd/Series2/dicoms.mat',\n",
       " '/media/agjvc_rad3/_TESTKOLLEKTIV/Daten/Daten/Proband_04_Fd/Series3/dicoms.mat',\n",
       " '/media/agjvc_rad3/_TESTKOLLEKTIV/Daten/Daten/Proband_04_Fd/Series1/dicoms.mat']"
      ]
     },
     "execution_count": 9,
     "metadata": {},
     "output_type": "execute_result"
    }
   ],
   "source": [
    "ds.subject_series[0]"
   ]
  },
  {
   "cell_type": "code",
   "execution_count": null,
   "id": "3ed6ed99-9040-4e15-ae6f-1cfd4c2a3fb0",
   "metadata": {},
   "outputs": [],
   "source": []
  }
 ],
 "metadata": {
  "kernelspec": {
   "display_name": "Python 3 (ipykernel)",
   "language": "python",
   "name": "python3"
  },
  "language_info": {
   "codemirror_mode": {
    "name": "ipython",
    "version": 3
   },
   "file_extension": ".py",
   "mimetype": "text/x-python",
   "name": "python",
   "nbconvert_exporter": "python",
   "pygments_lexer": "ipython3",
   "version": "3.10.4"
  }
 },
 "nbformat": 4,
 "nbformat_minor": 5
}
