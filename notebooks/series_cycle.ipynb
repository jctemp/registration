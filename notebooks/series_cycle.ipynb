{
 "cells": [
  {
   "cell_type": "markdown",
   "metadata": {},
   "source": [
    "# Series mean intensity histogram"
   ]
  },
  {
   "cell_type": "code",
   "execution_count": null,
   "metadata": {},
   "outputs": [],
   "source": [
    "SAMPLE_IDX = 1"
   ]
  },
  {
   "cell_type": "markdown",
   "metadata": {},
   "source": [
    "## Series plot functions"
   ]
  },
  {
   "cell_type": "code",
   "execution_count": null,
   "metadata": {},
   "outputs": [],
   "source": [
    "import os\n",
    "import sys\n",
    "\n",
    "sys.path.append('../')\n",
    "\n",
    "import matplotlib.pyplot as plt\n",
    "import numpy as np\n",
    "import torch\n",
    "\n",
    "from reg.data import LungDataModule"
   ]
  },
  {
   "cell_type": "code",
   "execution_count": null,
   "metadata": {},
   "outputs": [],
   "source": [
    "def setup_data_module():\n",
    "    n_available_cores = len(os.sched_getaffinity(0)) - 1\n",
    "    n_available_cores = 1 if n_available_cores == 0 else n_available_cores\n",
    "    data_module = LungDataModule(\n",
    "        root_dir=\"/media/agjvc_rad3/_TESTKOLLEKTIV/Daten/Daten\",\n",
    "        split=(0.7, 0.1, 0.2),\n",
    "        seed=42,\n",
    "        pin_memory=True,\n",
    "        num_workers=n_available_cores,\n",
    "    )\n",
    "    data_module.setup()\n",
    "    return data_module\n",
    "\n",
    "def fetch_sample_from_dataloader(dataloader, sample_idx):\n",
    "    for i, batch in enumerate(dataloader):\n",
    "        if i == sample_idx or sample_idx is None:\n",
    "            return batch"
   ]
  },
  {
   "cell_type": "code",
   "execution_count": null,
   "metadata": {},
   "outputs": [],
   "source": [
    "def histogram_main(sample_idx):\n",
    "    CUT_OFF = 30\n",
    "\n",
    "    data_module = setup_data_module()\n",
    "    dataloader = data_module.test_dataloader()\n",
    "\n",
    "    if sample_idx is None:\n",
    "        sample_idx = np.random.randint(0, 64)\n",
    "\n",
    "    moving_series = fetch_sample_from_dataloader(dataloader, sample_idx)\n",
    "\n",
    "    image_means = moving_series.mean(axis=(2, 3))[0, 0][CUT_OFF:]\n",
    "    mean_of_means = torch.mean(image_means)\n",
    "    std_of_means = torch.std(image_means)\n",
    "    diff = torch.abs(image_means - mean_of_means)\n",
    "    _, max_diff_i = torch.topk(diff, 1, largest=True)\n",
    "    _, mean_i = torch.topk(diff, 1, largest=False)\n",
    "    _, max_i = torch.topk(image_means, 1)\n",
    "\n",
    "    image_indices = np.array(list(range(0, len(image_means)))) + CUT_OFF\n",
    "\n",
    "    figsize = (16, 5)\n",
    "\n",
    "    fig, ax = plt.subplots(1, 1, figsize=figsize)\n",
    "    fig.set_tight_layout(True)\n",
    "\n",
    "    ax.set_title(\"Mean of Image Series\")\n",
    "    ax.set_xlabel(\"Image Index\")\n",
    "    ax.set_ylabel(\"Mean Value\")\n",
    "\n",
    "    ax.plot(image_indices, image_means, \"-\", color='b', lw=2, label=\"Image Means\")\n",
    "    ax.axvline(x=(max_diff_i + CUT_OFF).numpy()[0], color='r', linestyle='-', lw=2, label=f\"Peak at idx = {(max_diff_i + CUT_OFF).numpy()[0]}\")\n",
    "    ax.axhline(y=image_means[-1], color='purple', linestyle=\"dashed\", lw=2, label=\"Last Mean\")\n",
    "    ax.axhline(y=image_means[mean_i], color='green', linestyle=\"dashdot\", lw=2, label=\"Mean of Means\")\n",
    "    ax.axhline(y=image_means[max_i], color='orange', linestyle=\"dotted\", lw=2, label=\"Max Mean\")\n",
    "\n",
    "    # Plot sigma lines\n",
    "    ax.axhline(y=mean_of_means + std_of_means, color='y', linestyle=\"dotted\", lw=2, label=\"Mean + 1 Sigma\")\n",
    "    ax.axhline(y=mean_of_means - std_of_means, color='y', linestyle=\"dotted\", lw=2, label=\"Mean - 1 Sigma\")\n",
    "    ax.axhline(y=mean_of_means + 2 * std_of_means, color='orange', linestyle=\"dotted\", lw=2, label=\"Mean + 2 Sigma\")\n",
    "    ax.axhline(y=mean_of_means - 2 * std_of_means, color='orange', linestyle=\"dotted\", lw=2, label=\"Mean - 2 Sigma\")\n",
    "\n",
    "    # Set x-axis ticks every 10 values\n",
    "    ax.set_xticks(np.arange(image_indices[0], image_indices[-1] + 1, 10))\n",
    "\n",
    "    ax.legend(loc='lower right', fontsize='small')\n",
    "    ax.grid(True, which='both', linestyle='--', lw=0.5)\n",
    "\n",
    "    plt.show()\n",
    "    plt.close()"
   ]
  },
  {
   "cell_type": "markdown",
   "metadata": {},
   "source": [
    "## Main"
   ]
  },
  {
   "cell_type": "code",
   "execution_count": null,
   "metadata": {},
   "outputs": [],
   "source": [
    "histogram_main(SAMPLE_IDX)"
   ]
  }
 ],
 "metadata": {
  "language_info": {
   "name": "python"
  }
 },
 "nbformat": 4,
 "nbformat_minor": 2
}
