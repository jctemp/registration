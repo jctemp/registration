{
 "cells": [
  {
   "cell_type": "code",
   "execution_count": null,
   "id": "d9d14198-a6c7-4d80-ae7b-8f7364d802b6",
   "metadata": {},
   "outputs": [],
   "source": [
    "from pathlib2 import Path\n",
    "from tqdm.notebook import tqdm\n",
    "\n",
    "import numpy as np\n",
    "import seaborn as sns\n",
    "import scipy.io as spio\n",
    "\n",
    "import matplotlib.pyplot as plt\n",
    "import matplotlib.animation as animation\n",
    "\n",
    "plt.rcParams[\"animation.html\"] = \"jshtml\"\n",
    "plt.rcParams[\"animation.embed_limit\"] = 512\n",
    "plt.rcParams['figure.dpi'] = 150  \n",
    "%matplotlib inline"
   ]
  },
  {
   "cell_type": "markdown",
   "id": "95b97038-88ee-46b8-9d9c-e1c9e54deb95",
   "metadata": {},
   "source": [
    "## Load data"
   ]
  },
  {
   "cell_type": "code",
   "execution_count": null,
   "id": "d3028736-12bc-4d98-8492-a2afce3975c2",
   "metadata": {},
   "outputs": [],
   "source": [
    "root = Path(\"/media/agjvc_rad3/_TESTKOLLEKTIV/Daten\")"
   ]
  },
  {
   "cell_type": "code",
   "execution_count": null,
   "id": "65abcb25-c500-4677-b919-2bd25d29b9f9",
   "metadata": {},
   "outputs": [],
   "source": [
    "cases = list(filter(lambda case: len(list(case.glob(\"Series*\"))) != 0, root.glob(\"*/*\")))\n",
    "cases_len = len(cases)\n",
    "\n",
    "series = list(root.glob(\"*/*/Series*/dicoms.mat\"))\n",
    "series_len = len(series)\n",
    "\n",
    "print(f\"Cases: {cases_len}, Series: {series_len}\")"
   ]
  },
  {
   "cell_type": "markdown",
   "id": "d9a6cc26-5b69-4234-a799-b4cdc60b770b",
   "metadata": {},
   "source": [
    "## Visualisation"
   ]
  },
  {
   "cell_type": "markdown",
   "id": "8df3aede-dbd8-45c3-a5d4-25f8b85ce7f0",
   "metadata": {},
   "source": [
    "### Series"
   ]
  },
  {
   "cell_type": "code",
   "execution_count": null,
   "id": "85e9de50-de9b-424e-8795-4033b2a9695f",
   "metadata": {},
   "outputs": [],
   "source": [
    "case_idx = 0\n",
    "assert(case_idx < cases_len)"
   ]
  },
  {
   "cell_type": "code",
   "execution_count": null,
   "id": "b21a5826-4efc-4670-8cff-8eb076f61155",
   "metadata": {},
   "outputs": [],
   "source": [
    "case_series = list(cases[case_idx].glob(\"Series*/dicoms.mat\"))\n",
    "case_series_len = len(case_series)\n",
    "case_series_data = [(spio.loadmat(path)[\"dcm\"]) for path in tqdm(case_series)]\n",
    "assert(len(case_series_data) > 0)\n",
    "\n",
    "case_sequence_len = case_series_data[0].shape[0]\n",
    "print(f\"Series: {case_series_len}, Sequence-length: {case_sequence_len}\")"
   ]
  },
  {
   "cell_type": "code",
   "execution_count": null,
   "id": "13b37616-c69d-43f4-befe-77b0be0fd2d5",
   "metadata": {},
   "outputs": [],
   "source": [
    "case_sequence_idx = 35\n",
    "assert(case_sequence_idx < case_sequence_len)"
   ]
  },
  {
   "cell_type": "code",
   "execution_count": null,
   "id": "5320498d-b3de-4af3-b575-5f30a7921193",
   "metadata": {},
   "outputs": [],
   "source": [
    "fig, ax = plt.subplots(1, case_series_len, figsize=(case_series_len, 1), dpi=300)\n",
    "\n",
    "for i, d in enumerate(case_series_data):\n",
    "    ax[i].imshow(d[case_sequence_idx], interpolation=\"nearest\", cmap=\"gray\")\n",
    "    ax[i].set_title(f\"Case {case_idx} Series {i}\", fontsize=4)\n",
    "    ax[i].set_xticks([])\n",
    "    ax[i].set_yticks([])\n",
    "\n",
    "plt.show()\n",
    "plt.close()\n"
   ]
  },
  {
   "cell_type": "markdown",
   "id": "eff39518-1226-402f-a17e-8bffb01575d7",
   "metadata": {},
   "source": [
    "### Frames"
   ]
  },
  {
   "cell_type": "code",
   "execution_count": null,
   "id": "9e0425c4-9b08-4c6c-9a9b-05bba8fcf96e",
   "metadata": {},
   "outputs": [],
   "source": [
    "case_series_idx = 3\n",
    "assert(case_series_idx < case_series_len)\n",
    "image_data = case_series_data[case_series_idx]"
   ]
  },
  {
   "cell_type": "code",
   "execution_count": null,
   "id": "e67ec4ba-ad13-48f5-a3f5-e0ed52a6633d",
   "metadata": {},
   "outputs": [],
   "source": [
    "fig, ax = plt.subplots()\n",
    "\n",
    "im = ax.imshow(image_data[0], animated=True, cmap=\"gray\")\n",
    "def animate(i):\n",
    "    im.set_data(image_data[i])\n",
    "    return [im]\n",
    "\n",
    "animation.FuncAnimation(fig, animate, frames=image_data.shape[0])"
   ]
  },
  {
   "cell_type": "markdown",
   "id": "660a7fb3-7df1-4400-9777-5a64532df22d",
   "metadata": {},
   "source": [
    "## Analysis"
   ]
  },
  {
   "cell_type": "code",
   "execution_count": null,
   "id": "aa7c7d3a-f95f-44b1-b6d0-b99ac094b2a4",
   "metadata": {},
   "outputs": [],
   "source": [
    "def calculate_histogram(image):\n",
    "  return np.histogram(image.flatten(), bins=256)[0]\n",
    "\n",
    "def calculate_intensity_stats(image):\n",
    "  flat_image = image.flatten()\n",
    "  mean = np.mean(flat_image)\n",
    "  std = np.std(flat_image)\n",
    "  var = np.var(flat_image)\n",
    "  return mean, std, var\n",
    "\n",
    "def analyse_series(series):\n",
    "    stats = {}\n",
    "    stats[\"histogram\"] = calculate_histogram(series)\n",
    "    stats[\"mean\"], stats[\"std\"], stats[\"var\"] = calculate_intensity_stats(series)\n",
    "    return stats\n",
    "\n",
    "def load_series(path):\n",
    "    return spio.loadmat(path)[\"dcm\"]"
   ]
  },
  {
   "cell_type": "code",
   "execution_count": null,
   "id": "bfeb6369-72cb-4d68-b5c2-6cf370810f9d",
   "metadata": {},
   "outputs": [],
   "source": [
    "series_stats = [analyse_series(load_series(s)) for s in tqdm(series)]"
   ]
  },
  {
   "cell_type": "code",
   "execution_count": null,
   "id": "d909d785-31f9-46e0-ab36-3976535ae655",
   "metadata": {},
   "outputs": [],
   "source": [
    "rows, cols = 3, 5\n",
    "fig, ax = plt.subplots(rows, cols,figsize=(16,8))\n",
    "np.random.seed(42)\n",
    "for i in range(rows):\n",
    "    for j in range(cols):\n",
    "        idx = np.random.randint(0, len(series_stats))\n",
    "        ax[i][j].plot(series_stats[idx][\"histogram\"], \"-\", lw=1)\n",
    "        ax[i][j].set_title(idx)\n",
    "        ax[i][j].set_yscale(\"log\")\n",
    "        ax[i][j].set_ylabel(\"Frequency\")\n",
    "        ax[i][j].set_yticks([1e2,1e4,1e6])\n",
    "        ax[i][j].set_xlabel(\"Intensity (bin_size=256)\")\n",
    "plt.suptitle(\"Histograms\")\n",
    "plt.tight_layout()\n",
    "plt.savefig(\"histograms.png\")\n",
    "plt.show()\n",
    "plt.close()"
   ]
  },
  {
   "cell_type": "code",
   "execution_count": null,
   "id": "7e566148-158a-4451-82c9-536c2133363a",
   "metadata": {},
   "outputs": [],
   "source": [
    "means = [stats['mean'] for stats in series_stats]\n",
    "stds = [stats['std'] for stats in series_stats]\n",
    "variances = [stats['var'] for stats in series_stats]"
   ]
  },
  {
   "cell_type": "code",
   "execution_count": null,
   "id": "adffade4-97d1-43ae-8418-d2624b3b1565",
   "metadata": {},
   "outputs": [],
   "source": [
    "fig, ax = plt.subplots(1,3,figsize=(16,4))\n",
    "\n",
    "ax[0].hist(means, bins=128, density=True)\n",
    "ax[0].set_title(\"Mean\")\n",
    "ax[1].hist(stds, bins=128, density=True)\n",
    "ax[1].set_title(\"Standard deviation\")\n",
    "ax[2].hist(variances, bins=128, density=True)\n",
    "ax[2].set_title(\"Variance\")\n",
    "\n",
    "plt.savefig(\"distributions.png\")\n",
    "plt.show()\n",
    "plt.close()"
   ]
  },
  {
   "cell_type": "code",
   "execution_count": null,
   "id": "e37c32a2-68b9-458f-8777-9d81dc24e209",
   "metadata": {},
   "outputs": [],
   "source": []
  }
 ],
 "metadata": {
  "kernelspec": {
   "display_name": "Python 3 (ipykernel)",
   "language": "python",
   "name": "python3"
  },
  "language_info": {
   "codemirror_mode": {
    "name": "ipython",
    "version": 3
   },
   "file_extension": ".py",
   "mimetype": "text/x-python",
   "name": "python",
   "nbconvert_exporter": "python",
   "pygments_lexer": "ipython3",
   "version": "3.10.4"
  }
 },
 "nbformat": 4,
 "nbformat_minor": 5
}
