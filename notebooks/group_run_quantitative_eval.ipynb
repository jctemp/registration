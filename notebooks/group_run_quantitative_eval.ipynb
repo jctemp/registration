{
 "cells": [
  {
   "cell_type": "code",
   "execution_count": null,
   "id": "initial_id",
   "metadata": {
    "collapsed": true
   },
   "outputs": [],
   "source": [
    "WANDB_PROJECT = \"temple/lung-registration\""
   ]
  },
  {
   "cell_type": "code",
   "execution_count": null,
   "id": "129120e79a837e45",
   "metadata": {
    "collapsed": false
   },
   "outputs": [],
   "source": [
    "import sys\n",
    "\n",
    "sys.path.append('../')\n",
    "\n",
    "from sklearn.preprocessing import StandardScaler\n",
    "from sklearn.cluster import KMeans\n",
    "import numpy as np\n",
    "import matplotlib.pyplot as plt\n",
    "import pandas as pd\n",
    "import wandb"
   ]
  },
  {
   "cell_type": "code",
   "execution_count": null,
   "id": "2ceacbfe47903a87",
   "metadata": {
    "collapsed": false
   },
   "outputs": [],
   "source": [
    "def to_string(x):\n",
    "    x = np.array(x)\n",
    "    x = x.flatten()\n",
    "    s = \"-\".join(x)\n",
    "    return s\n",
    "\n",
    "\n",
    "def is_any_element_in_list(list1, list2):\n",
    "    for element in list1:\n",
    "        if f\"test_{element}\" in list2:\n",
    "            return True\n",
    "    return False"
   ]
  },
  {
   "cell_type": "code",
   "execution_count": null,
   "id": "4c76188b130994b8",
   "metadata": {
    "collapsed": false
   },
   "outputs": [],
   "source": [
    "def main_fetch_values(tags=None):\n",
    "    api = wandb.Api()\n",
    "    runs_wandb = api.runs(WANDB_PROJECT)\n",
    "    runs_dict = {}\n",
    "    for run in runs_wandb:\n",
    "        if tags is None or is_any_element_in_list(tags, run.tags) or \"identity\" in run.tags:\n",
    "            run_dict = {\n",
    "                \"id\": run.id,\n",
    "                \"name\": run.name,\n",
    "            }\n",
    "\n",
    "            exclude_patterns = [\"weights\", \"gradients\", \"step\", \"_wandb\", \"_timestamp\", \"graph\", \"val_loss_epoch\",\n",
    "                                \"train_loss_epoch\"]\n",
    "\n",
    "            # Update the dictionary while excluding keys with specific patterns\n",
    "            def should_include_key(key):\n",
    "                for pattern in exclude_patterns:\n",
    "                    if pattern in key:\n",
    "                        return False\n",
    "                return True\n",
    "\n",
    "            # .summary contains the output keys/values for metrics like accuracy.\n",
    "            #  We call ._json_dict to omit large files \n",
    "            run_dict.update({f\"m_{k}\": v for k, v in run.summary._json_dict.items() if should_include_key(k)})\n",
    "\n",
    "            # .config contains the hyperparameters.\n",
    "            #  We remove special values that start with _.\n",
    "            run_dict.update(\n",
    "                {f\"h_{k}\": v for k, v in run.config.items()\n",
    "                 if not k.startswith(\"_\")})\n",
    "\n",
    "            # .name is the human-readable name of the run.\n",
    "            runs_dict.update({run.name: run_dict})\n",
    "\n",
    "    runs_df = pd.DataFrame(runs_dict)\n",
    "    runs_df = runs_df.transpose()\n",
    "\n",
    "    runs_df[\"h_criteria_warped\"] = runs_df[\"h_criteria_warped\"].apply(to_string)\n",
    "    runs_df[\"h_criteria_flow\"] = runs_df[\"h_criteria_flow\"].apply(to_string)\n",
    "    runs_df[\"m_duration_hours\"] = runs_df[\"m__runtime\"] / 3600\n",
    "    runs_df.drop(columns=[\"m__runtime\"], inplace=True)\n",
    "    runs_df = runs_df.reindex(sorted(runs_df.columns), axis=1)\n",
    "    runs_df = runs_df.transpose()\n",
    "    return runs_df"
   ]
  },
  {
   "cell_type": "code",
   "execution_count": null,
   "id": "54f03b1b3b0aca8f",
   "metadata": {
    "collapsed": false
   },
   "outputs": [],
   "source": [
    "runs = main_fetch_values([\n",
    "    # \"criteria_warped\",\n",
    "    # \"criteria_warped_mul\",\n",
    "\n",
    "    \"criteria_flow\",  # make weight adjustment later :) hyperparameter optimisation lmao\n",
    "    \n",
    "    # \"registration_depth\",\n",
    "    # \"registration_sampling\",\n",
    "    # \"registration_target\",\n",
    "    # \"registration_stride\",\n",
    "    # \"identity_loss\",\n",
    "    # \"temporal_dependence\",\n",
    "    # \"model_capacity\",\n",
    "])\n",
    "runs = runs.transpose()\n",
    "id_run = runs.loc[\"transmorph-identity\"]\n",
    "\n",
    "runs[\"m_score\"] = (\n",
    "        (\n",
    "            (runs['m_mse_mean_epoch'] - id_run['m_mse_mean_epoch']) / (0.0 - id_run['m_mse_mean_epoch'])\n",
    "        ) * 0.45 +\n",
    "        (\n",
    "            (runs['m_ssim_mean_epoch'] - id_run['m_ssim_mean_epoch']) / (1.0 - id_run['m_ssim_mean_epoch'])\n",
    "        ) * 0.45 +\n",
    "        (\n",
    "            1.0 - (runs['m_perc_neg_jac_det_mean_epoch'] / runs['m_perc_neg_jac_det_mean_epoch'].max())\n",
    "        ) * 0.05 +\n",
    "        (\n",
    "            1.0 - (runs['m_duration_hours'] / runs['m_duration_hours'].max())\n",
    "        ) * 0.05\n",
    ")\n",
    "runs = runs.sort_values(\"m_score\", ascending=False)\n",
    "runs[\"m_score\"] = runs[\"m_score\"].astype(np.float32).round(4)\n",
    "runs\n"
   ]
  },
  {
   "cell_type": "code",
   "execution_count": null,
   "id": "eee43bc9b81542ae",
   "metadata": {
    "collapsed": false
   },
   "outputs": [],
   "source": [
    "runs.to_csv('output.csv', index=False)"
   ]
  },
  {
   "cell_type": "code",
   "execution_count": null,
   "id": "3c3d7ff8",
   "metadata": {},
   "outputs": [],
   "source": [
    "plt.figure(figsize=(12, 3))\n",
    "plt.barh(runs[\"name\"], runs[\"m_score\"])\n",
    "plt.xlabel(\"Score\")\n",
    "plt.title(\"Scores of Runs\")\n",
    "plt.grid(True, linewidth=0.5, zorder=100, axis='x')\n",
    "plt.tight_layout()  # Adjust layout to make room for the labels\n",
    "plt.show()"
   ]
  },
  {
   "cell_type": "code",
   "execution_count": null,
   "id": "7314beeb",
   "metadata": {},
   "outputs": [],
   "source": [
    "# Step 1: Select relevant columns\n",
    "selected_columns = [\n",
    "    \"m_ssim_mean_epoch\",\n",
    "    \"m_mse_mean_epoch\",\n",
    "    \"m_perc_neg_jac_det_mean_epoch\",\n",
    "    \"m_score\",\n",
    "]\n",
    "data_selected = runs[selected_columns]\n",
    "\n",
    "# Step 2: Normalize data\n",
    "scaler = StandardScaler()\n",
    "data_normalized = scaler.fit_transform(data_selected)\n",
    "\n",
    "# Step 3: Apply K-Means Clustering\n",
    "kmeans = KMeans(n_clusters=3, n_init=10, random_state=42)\n",
    "runs[\"cluster\"] = kmeans.fit_predict(data_normalized)\n",
    "\n",
    "# Step 4: Identify the best performing data point based on the highest score\n",
    "best_performing_index = runs[\"m_score\"].idxmax()\n",
    "best_performing_point = runs.loc[best_performing_index]\n",
    "\n",
    "# Step 5: Visualize Clusters with discrete colors\n",
    "plt.figure(figsize=(10, 6))\n",
    "plt.scatter(\n",
    "    runs[\"m_mse_mean_epoch\"][0:3],\n",
    "    runs[\"m_ssim_mean_epoch\"][0:3],\n",
    "    edgecolor=\"black\",\n",
    "    c=runs[\"cluster\"][0:3],\n",
    "    marker=\"o\",\n",
    ")\n",
    "plt.scatter(\n",
    "    best_performing_point[\"m_mse_mean_epoch\"],\n",
    "    best_performing_point[\"m_ssim_mean_epoch\"],\n",
    "    c=\"red\",\n",
    "    marker=\"x\",\n",
    "    s=100,\n",
    "    label=f\"Best Performing: {best_performing_point.name}\",\n",
    ")\n",
    "plt.xlabel(\"MSE Mean Epoch\")\n",
    "plt.ylabel(\"SSIM Mean Epoch\")\n",
    "plt.title(\"Clustering of Runs\")\n",
    "plt.legend()\n",
    "plt.grid(True, linewidth=0.5, zorder=100)\n",
    "plt.show()"
   ]
  },
  {
   "cell_type": "code",
   "execution_count": null,
   "id": "996b8e20",
   "metadata": {},
   "outputs": [],
   "source": []
  }
 ],
 "metadata": {
  "kernelspec": {
   "display_name": "Python 3",
   "language": "python",
   "name": "python3"
  },
  "language_info": {
   "codemirror_mode": {
    "name": "ipython",
    "version": 3
   },
   "file_extension": ".py",
   "mimetype": "text/x-python",
   "name": "python",
   "nbconvert_exporter": "python",
   "pygments_lexer": "ipython3",
   "version": "3.10.13"
  }
 },
 "nbformat": 4,
 "nbformat_minor": 5
}
