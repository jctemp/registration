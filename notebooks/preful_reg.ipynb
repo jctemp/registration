{
 "cells": [
  {
   "cell_type": "code",
   "execution_count": null,
   "id": "ef1949e2",
   "metadata": {},
   "outputs": [],
   "source": [
    "MODEL_PATH = \"../model_weights/test_model_capacity/y2ax6dmp/val_loss=-1.61053097&epoch=99.ckpt\"\n",
    "TARGET_PATH = \"/media/agjvc_rad3/_TESTKOLLEKTIV/Daten/Daten/*/Series*\"\n",
    "OUTPUT_DIR = \"images_reg_av_transmorph\""
   ]
  },
  {
   "cell_type": "code",
   "execution_count": null,
   "id": "fc461019-1e9d-4950-90c6-674486eff0ba",
   "metadata": {
    "tags": []
   },
   "outputs": [],
   "source": [
    "import gc\n",
    "import glob\n",
    "import os\n",
    "import time\n",
    "import sys\n",
    "\n",
    "sys.path.append('../')\n",
    "\n",
    "from pathlib import Path\n",
    "import numpy as np\n",
    "import pydicom\n",
    "import scipy.io as spio\n",
    "import shutil\n",
    "import torch\n",
    "import torchvision"
   ]
  },
  {
   "cell_type": "code",
   "execution_count": null,
   "id": "1c2296f3-9b08-470a-9af6-50ef44d5c7a5",
   "metadata": {},
   "outputs": [],
   "source": [
    "from reg.data.utils import ZNormalization, RescaleIntensity, read_mat_data_w_meta\n",
    "from reg.transmorph import TransMorphModule\n",
    "from reg.transmorph.modules.spatial_transformer import SpatialTransformerSeries"
   ]
  },
  {
   "cell_type": "code",
   "execution_count": null,
   "id": "f61d591c",
   "metadata": {},
   "outputs": [],
   "source": [
    "if not torch.cuda.is_available():\n",
    "    raise Exception(\"No cuda :(\")\n",
    "\n",
    "model = TransMorphModule.load_from_checkpoint(str(MODEL_PATH), strict=True)\n",
    "\n",
    "print(f\"{'=' * 5} Configuration summary {'=' * 92}\")\n",
    "print(f\"\")\n",
    "print(model.hparams)\n",
    "print(f\"\")\n",
    "print(\"=\" * 120)\n",
    "\n",
    "transforms = torchvision.transforms.Compose([ZNormalization(), RescaleIntensity(0, 1)])"
   ]
  },
  {
   "cell_type": "code",
   "execution_count": null,
   "id": "eaab410e-3d09-4098-8f85-704d4f23ff79",
   "metadata": {},
   "outputs": [],
   "source": [
    "series_folders = glob.glob(TARGET_PATH)\n",
    "series_paths = [Path(p) for p in series_folders]"
   ]
  },
  {
   "cell_type": "code",
   "execution_count": null,
   "id": "2bb7f0c3-0a52-49cb-bcde-becc872eab2d",
   "metadata": {
    "scrolled": true
   },
   "outputs": [],
   "source": [
    "deltas = []\n",
    "for series_path_dir in series_paths:\n",
    "    start = time.time()\n",
    "\n",
    "    reg_path_dir = series_path_dir / OUTPUT_DIR\n",
    "    dicoms_mat_path = series_path_dir / \"dicoms.mat\"\n",
    "    os.makedirs(reg_path_dir, exist_ok=True)\n",
    "\n",
    "    print(120 * \"=\")\n",
    "    print(f\"series_path_dir = {series_path_dir}\")\n",
    "    print(f\"reg_path_dir = {reg_path_dir}\")\n",
    "    print(f\"dicoms_mat_path = {dicoms_mat_path}\")\n",
    "\n",
    "    data, mat = read_mat_data_w_meta(dicoms_mat_path)\n",
    "    sample = torch.from_numpy(data.astype(np.float32)).unsqueeze(0).cuda()\n",
    "    sample_transformed = transforms(sample)\n",
    "\n",
    "    with torch.no_grad():\n",
    "        _, flow, _ = model(sample_transformed)\n",
    "\n",
    "    stn = SpatialTransformerSeries(sample.shape[2:]).cuda()\n",
    "    warped = stn(sample, flow)\n",
    "    dcm = warped.view(warped.shape[2:]).permute(2, 0, 1).detach().cpu().numpy()\n",
    "    mat[\"dcm\"] = dcm\n",
    "\n",
    "    del stn, sample, sample_transformed, warped, flow, dcm\n",
    "\n",
    "    reg_result_path = reg_path_dir / \"dicoms.mat\"\n",
    "    spio.savemat(reg_result_path, mat, long_field_names=True)\n",
    "\n",
    "    shutil.copyfile(\n",
    "        series_path_dir / \"images_reg_av/dicomsNumber.mat\",\n",
    "        reg_path_dir / \"dicomsNumber.mat\",\n",
    "    )\n",
    "    dicom_path = reg_path_dir / \"IM-0001-0001.dcm\"\n",
    "\n",
    "    shutil.copyfile(series_path_dir / \"images_reg_av/IM-0001-0001.dcm\", dicom_path)\n",
    "    ds = pydicom.dcmread(dicom_path)\n",
    "\n",
    "    data = mat[\"dcm\"][0, :, :]\n",
    "    assert data.dtype == np.float32, \"DICOM pixel data should be float32\"\n",
    "\n",
    "    ds.Rows, ds.Columns = data.shape\n",
    "    ds.BitsAllocated = 32\n",
    "    ds.SamplesPerPixel = 1\n",
    "    ds.PhotometricInterpretation = \"MONOCHROME2\"\n",
    "    ds.PixelRepresentation = 1  # For signed data\n",
    "\n",
    "    ds.PixelData = data.tobytes()\n",
    "    ds.save_as(dicom_path)\n",
    "\n",
    "    print(\"\")\n",
    "    print(f\"reg_result_path = {reg_result_path}\")\n",
    "    print(f\"dicom_path = {dicom_path}\")\n",
    "    print(\"\")\n",
    "\n",
    "    gc.collect()\n",
    "    torch.cuda.empty_cache()\n",
    "    print(\n",
    "        \"torch.cuda.memory_allocated: %fGB\"\n",
    "        % (torch.cuda.memory_allocated(0) / 1024 / 1024 / 1024)\n",
    "    )\n",
    "    print(\n",
    "        \"torch.cuda.memory_reserved: %fGB\"\n",
    "        % (torch.cuda.memory_reserved(0) / 1024 / 1024 / 1024)\n",
    "    )\n",
    "    print(\n",
    "        \"torch.cuda.max_memory_reserved: %fGB\"\n",
    "        % (torch.cuda.max_memory_reserved(0) / 1024 / 1024 / 1024)\n",
    "    )\n",
    "\n",
    "    end = time.time()\n",
    "    delta = end - start\n",
    "    deltas.append(delta)\n",
    "    print(f\"delta = {delta:.4f}s\")"
   ]
  },
  {
   "cell_type": "code",
   "execution_count": null,
   "id": "ebe22480-bfe7-4bb3-82a8-a012670a33f7",
   "metadata": {},
   "outputs": [],
   "source": [
    "np.mean(deltas), np.sum(deltas) / 60"
   ]
  }
 ],
 "metadata": {
  "kernelspec": {
   "display_name": "Python 3 (ipykernel)",
   "language": "python",
   "name": "python3"
  },
  "language_info": {
   "codemirror_mode": {
    "name": "ipython",
    "version": 3
   },
   "file_extension": ".py",
   "mimetype": "text/x-python",
   "name": "python",
   "nbconvert_exporter": "python",
   "pygments_lexer": "ipython3",
   "version": "3.10.13"
  }
 },
 "nbformat": 4,
 "nbformat_minor": 5
}
