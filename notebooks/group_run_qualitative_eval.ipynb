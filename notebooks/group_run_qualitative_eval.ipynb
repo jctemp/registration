{
 "cells": [
  {
   "cell_type": "markdown",
   "metadata": {},
   "source": [
    "# Series animation"
   ]
  },
  {
   "cell_type": "code",
   "execution_count": null,
   "metadata": {},
   "outputs": [],
   "source": [
    "GROUP_NAME = \"criteria_flow\"\n",
    "EVAL_PATH = f\"../model_eval/test_{GROUP_NAME}\"\n",
    "HTML_PATH = \"./analysis/html\"\n",
    "INTERACTIVE = False"
   ]
  },
  {
   "cell_type": "code",
   "execution_count": null,
   "metadata": {},
   "outputs": [],
   "source": [
    "import os\n",
    "import sys\n",
    "\n",
    "sys.path.append('../')\n",
    "\n",
    "from PIL import Image\n",
    "import matplotlib.pyplot as plt\n",
    "import matplotlib.animation as animation\n",
    "import numpy as np"
   ]
  },
  {
   "cell_type": "markdown",
   "metadata": {},
   "source": [
    "## Series animation functions"
   ]
  },
  {
   "cell_type": "code",
   "execution_count": null,
   "metadata": {},
   "outputs": [],
   "source": [
    "def load_images(base_path, targets, runs):\n",
    "    data = []\n",
    "    for run in runs:\n",
    "        run_data = []\n",
    "        for target in targets:\n",
    "            target_path = os.path.join(base_path, run, target)\n",
    "            images = []\n",
    "            for img_name in sorted(os.listdir(target_path)):\n",
    "                if img_name.endswith('.png'):\n",
    "                    img_path = os.path.join(target_path, img_name)\n",
    "                    img = Image.open(img_path)\n",
    "                    img_array = np.array(img)\n",
    "                    images.append(img_array)\n",
    "            run_data.append(images)\n",
    "        data.append(run_data)\n",
    "    return data"
   ]
  },
  {
   "cell_type": "code",
   "execution_count": null,
   "metadata": {},
   "outputs": [],
   "source": [
    "def series_anim_main(base_path):\n",
    "    targets = [\"moving_series\", \"warped_series\", \"flow_series\", \"diff_series\"]\n",
    "    runs = [d for d in os.listdir(base_path) if os.path.isdir(os.path.join(base_path, d))]\n",
    "    data = load_images(base_path, targets, runs)\n",
    "\n",
    "    \n",
    "    # Configuration for inline display\n",
    "    plt.rcParams[\"animation.html\"] = \"jshtml\"\n",
    "    plt.rcParams[\"animation.embed_limit\"] = 2048\n",
    "    plt.rcParams['figure.dpi'] = 150\n",
    "    %matplotlib inline\n",
    "    \n",
    "    # Define the number of columns and rows for the subplots\n",
    "    num_cols = len(targets)\n",
    "    num_rows = len(runs)\n",
    "    fig, axs = plt.subplots(ncols=num_cols, nrows=num_rows, figsize=(2 * num_cols, 2 * num_rows))\n",
    "    axs = axs.flatten()\n",
    "    \n",
    "    images = []\n",
    "    for i in range(num_rows):\n",
    "        row_offset = i * num_cols\n",
    "        \n",
    "        y_pos = 1 - ((i + 1) / float(num_rows + 1))  # Adjust the vertical position\n",
    "        fig.text(0.01, y_pos, f\"{runs[i]}\", ha='right', va='center', fontsize=10, transform=fig.transFigure)\n",
    "        \n",
    "        if i == 0:       \n",
    "            axs[row_offset + 0].set(title=r\"$\\mathit{m}$\")\n",
    "            axs[row_offset + 1].set(title=r\"$\\mathit{m \\circ \\phi}$\")\n",
    "            axs[row_offset + 2].set(title=r\"$\\mathit{\\phi}$\")\n",
    "            axs[row_offset + 3].set(title=r\"$\\mathit{\\left| \\; (m \\circ \\phi) - f \\; \\right|}$\")\n",
    "    \n",
    "        ms, ws, fs, ds = data[i]\n",
    "    \n",
    "        for k in range(num_cols):\n",
    "            axs[row_offset + k].set(xticklabels=[], yticklabels=[], xticks=[], yticks=[], aspect=\"equal\")\n",
    "    \n",
    "        images.append(axs[row_offset + 0].imshow(ms[0], animated=True))\n",
    "        images.append(axs[row_offset + 1].imshow(ws[0], animated=True))\n",
    "        images.append(axs[row_offset + 2].imshow(fs[0], animated=True))\n",
    "        images.append(axs[row_offset + 3].imshow(ds[0], animated=True))\n",
    "        \n",
    "    def animate(delta):\n",
    "        for local_i in range(len(runs)):\n",
    "            local_row_offset = local_i * num_cols\n",
    "            local_ms, local_ws, local_fs, local_ds = data[local_i]\n",
    "        \n",
    "            images[local_row_offset + 0].set_data(local_ms[delta])\n",
    "            images[local_row_offset + 1].set_data(local_ws[delta])\n",
    "            images[local_row_offset + 2].set_data(local_fs[delta])\n",
    "            images[local_row_offset + 3].set_data(local_ds[delta])\n",
    "    \n",
    "        return images\n",
    "    \n",
    "    ani = animation.FuncAnimation(fig, animate, frames=len(data[0][0]), blit=True)\n",
    "    return ani"
   ]
  },
  {
   "cell_type": "markdown",
   "metadata": {},
   "source": [
    "## Main"
   ]
  },
  {
   "cell_type": "code",
   "execution_count": null,
   "metadata": {},
   "outputs": [],
   "source": [
    "ani = series_anim_main(EVAL_PATH)"
   ]
  },
  {
   "cell_type": "code",
   "execution_count": null,
   "metadata": {},
   "outputs": [],
   "source": [
    "%%script echo \"skip\"\n",
    "if not INTERACTIVE:\n",
    "    os.makedirs(HTML_PATH, exist_ok=True)\n",
    "    ani.save(f\"{HTML_PATH}/test_{GROUP_NAME}.html\", writer='html')\n",
    "    custom_css = (\n",
    "        \"\\n<style>\\n\"\n",
    "        \"img {\\n\"\n",
    "        \"   margin: 0 auto;\\n\"\n",
    "        \"   display: block;\\n\"\n",
    "        \"   width: 50%;\\n\"\n",
    "        \"}\\n\"\n",
    "        \"</style>\\n\"\n",
    "    )\n",
    "    with open(f\"{HTML_PATH}/test_{GROUP_NAME}.html\", 'rw') as file:\n",
    "        html_content = file.read()\n",
    "\n",
    "        html_content = html_content + custom_css\n",
    "        file.write(html_content)\n",
    "ani if INTERACTIVE else None"
   ]
  },
  {
   "cell_type": "code",
   "execution_count": null,
   "metadata": {},
   "outputs": [],
   "source": []
  }
 ],
 "metadata": {
  "kernelspec": {
   "display_name": ".venv",
   "language": "python",
   "name": "python3"
  },
  "language_info": {
   "codemirror_mode": {
    "name": "ipython",
    "version": 3
   },
   "file_extension": ".py",
   "mimetype": "text/x-python",
   "name": "python",
   "nbconvert_exporter": "python",
   "pygments_lexer": "ipython3",
   "version": "3.10.13"
  }
 },
 "nbformat": 4,
 "nbformat_minor": 2
}
