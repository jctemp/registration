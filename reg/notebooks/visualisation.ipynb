{
 "cells": [
  {
   "cell_type": "code",
   "execution_count": null,
   "id": "d9d14198-a6c7-4d80-ae7b-8f7364d802b6",
   "metadata": {},
   "outputs": [],
   "source": [
    "from pathlib2 import Path\n",
    "from tqdm.notebook import tqdm\n",
    "\n",
    "import numpy as np\n",
    "import scipy.io as spio\n",
    "\n",
    "import matplotlib.pyplot as plt\n",
    "import matplotlib.animation as animation\n",
    "\n",
    "plt.rcParams[\"animation.html\"] = \"jshtml\"\n",
    "plt.rcParams[\"animation.embed_limit\"] = 512\n",
    "plt.rcParams['figure.dpi'] = 150  \n",
    "%matplotlib inline"
   ]
  },
  {
   "cell_type": "markdown",
   "id": "95b97038-88ee-46b8-9d9c-e1c9e54deb95",
   "metadata": {},
   "source": [
    "## Load data"
   ]
  },
  {
   "cell_type": "code",
   "execution_count": null,
   "id": "d3028736-12bc-4d98-8492-a2afce3975c2",
   "metadata": {},
   "outputs": [],
   "source": [
    "root = Path(\"/media/agjvc_rad3/_TESTKOLLEKTIV/Daten\")"
   ]
  },
  {
   "cell_type": "code",
   "execution_count": null,
   "id": "1ec3b8b9-aae0-4c4c-891d-0d611d6ca9bd",
   "metadata": {},
   "outputs": [],
   "source": [
    "stem = np.vectorize(lambda s: s.parent.parent)\n",
    "series = np.array(sorted(root.glob(\"*/*/Series*/dicoms.mat\")))\n",
    "cases = np.unique(stem(series))\n",
    "print(f\"Cases: {len(cases)}, Series: {len(series)}\")"
   ]
  },
  {
   "cell_type": "markdown",
   "id": "d9a6cc26-5b69-4234-a799-b4cdc60b770b",
   "metadata": {},
   "source": [
    "## Visualisation"
   ]
  },
  {
   "cell_type": "markdown",
   "id": "8df3aede-dbd8-45c3-a5d4-25f8b85ce7f0",
   "metadata": {},
   "source": [
    "### Series"
   ]
  },
  {
   "cell_type": "code",
   "execution_count": null,
   "id": "85e9de50-de9b-424e-8795-4033b2a9695f",
   "metadata": {},
   "outputs": [],
   "source": [
    "case_idx = 0\n",
    "assert(case_idx < len(cases))"
   ]
  },
  {
   "cell_type": "code",
   "execution_count": null,
   "id": "b21a5826-4efc-4670-8cff-8eb076f61155",
   "metadata": {},
   "outputs": [],
   "source": [
    "case_series = series[stem(series) == cases[0]]\n",
    "case_series_len = len(case_series)\n",
    "case_series_data = [(spio.loadmat(path)[\"dcm\"]) for path in tqdm(case_series)]\n",
    "assert(case_series_len > 0)\n",
    "\n",
    "case_sequence_len = case_series_data[0].shape[0]\n",
    "print(f\"Series: {case_series_len}, Sequence-length: {case_sequence_len}\")"
   ]
  },
  {
   "cell_type": "code",
   "execution_count": null,
   "id": "13b37616-c69d-43f4-befe-77b0be0fd2d5",
   "metadata": {},
   "outputs": [],
   "source": [
    "case_sequence_idx = 35\n",
    "assert(case_sequence_idx < case_sequence_len)"
   ]
  },
  {
   "cell_type": "code",
   "execution_count": null,
   "id": "5320498d-b3de-4af3-b575-5f30a7921193",
   "metadata": {},
   "outputs": [],
   "source": [
    "fig, ax = plt.subplots(1, case_series_len, figsize=(case_series_len, 1), dpi=300)\n",
    "\n",
    "for i, d in enumerate(case_series_data):\n",
    "    ax[i].imshow(d[case_sequence_idx], interpolation=\"nearest\", cmap=\"gray\")\n",
    "    ax[i].set_title(f\"Case {case_idx} Series {i}\", fontsize=4)\n",
    "    ax[i].set_xticks([])\n",
    "    ax[i].set_yticks([])\n",
    "\n",
    "plt.show()\n",
    "plt.close()"
   ]
  },
  {
   "cell_type": "markdown",
   "id": "eff39518-1226-402f-a17e-8bffb01575d7",
   "metadata": {},
   "source": [
    "### Frames"
   ]
  },
  {
   "cell_type": "code",
   "execution_count": null,
   "id": "9e0425c4-9b08-4c6c-9a9b-05bba8fcf96e",
   "metadata": {},
   "outputs": [],
   "source": [
    "case_series_idx = 3\n",
    "assert(case_series_idx < case_series_len)\n",
    "image_data = case_series_data[case_series_idx]"
   ]
  },
  {
   "cell_type": "code",
   "execution_count": null,
   "id": "e67ec4ba-ad13-48f5-a3f5-e0ed52a6633d",
   "metadata": {},
   "outputs": [],
   "source": [
    "# %%script echo \"Skip\"\n",
    "fig, ax = plt.subplots()\n",
    "\n",
    "im = ax.imshow(image_data[0], animated=True, cmap=\"gray\")\n",
    "def animate(i):\n",
    "    im.set_data(image_data[i])\n",
    "    return [im]\n",
    "\n",
    "animation.FuncAnimation(fig, \n",
    "                        animate,\n",
    "                        frames=image_data.shape[0], \n",
    "                        blit=True)"
   ]
  },
  {
   "cell_type": "markdown",
   "id": "660a7fb3-7df1-4400-9777-5a64532df22d",
   "metadata": {},
   "source": [
    "## Analysis"
   ]
  },
  {
   "cell_type": "code",
   "execution_count": null,
   "id": "e50d4b60-aa22-411c-adcc-6ed72cffa4ba",
   "metadata": {},
   "outputs": [],
   "source": [
    "rows, cols = 2, 5\n",
    "np.random.seed(42)\n",
    "rand_idx = np.random.randint(0, len(series), rows * cols)"
   ]
  },
  {
   "cell_type": "code",
   "execution_count": null,
   "id": "bfeb6369-72cb-4d68-b5c2-6cf370810f9d",
   "metadata": {},
   "outputs": [],
   "source": [
    "series_data = [spio.loadmat(s)[\"dcm\"] for s in tqdm(series[rand_idx])]"
   ]
  },
  {
   "cell_type": "code",
   "execution_count": null,
   "id": "1616f4d6-ad29-4584-9d02-6d5e1d7382a5",
   "metadata": {},
   "outputs": [],
   "source": [
    "def calculate_stats(image):\n",
    "    image_means = image.mean(axis=(1, 2))\n",
    "    image_vars = image.var(axis=(1, 2))\n",
    "    return image_means, image_vars"
   ]
  },
  {
   "cell_type": "code",
   "execution_count": null,
   "id": "751a3a80-5ede-4868-aef8-05a245e04e1d",
   "metadata": {},
   "outputs": [],
   "source": [
    "series_stats = [calculate_stats(s) for s in tqdm(series_data)]"
   ]
  },
  {
   "cell_type": "code",
   "execution_count": null,
   "id": "17c4bec2-e4d2-4ef0-b256-1a2fef55fd1d",
   "metadata": {
    "jupyter": {
     "source_hidden": true
    }
   },
   "outputs": [],
   "source": [
    "figsize=(16,5)\n",
    "fig_means, ax_means = plt.subplots(rows, cols, figsize=figsize)\n",
    "fig_vars, ax_vars = plt.subplots(rows, cols, figsize=figsize)\n",
    "\n",
    "fig_means.suptitle(\"Mean\")\n",
    "fig_vars.suptitle(\"Variance\")\n",
    "\n",
    "fig_means.set_tight_layout(True)\n",
    "fig_vars.set_tight_layout(True)\n",
    "\n",
    "def axis_plot(ax, i, j, data, ridx):\n",
    "    ax[i][j].plot(data, \"-\", lw=1)\n",
    "    ax[i][j].set_title(f\"image series {ridx}\")\n",
    "\n",
    "for i in range(rows):\n",
    "    for j in range(cols):\n",
    "        idx = i * j + j\n",
    "        ridx = rand_idx[idx]\n",
    "        im_means, im_vars = series_stats[idx]\n",
    "        axis_plot(ax_means, i, j, im_means, ridx)\n",
    "        axis_plot(ax_vars, i, j, im_vars, ridx)\n",
    "\n",
    "plt.show()\n",
    "plt.close()\n"
   ]
  }
 ],
 "metadata": {
  "kernelspec": {
   "display_name": "Python 3 (ipykernel)",
   "language": "python",
   "name": "python3"
  },
  "language_info": {
   "codemirror_mode": {
    "name": "ipython",
    "version": 3
   },
   "file_extension": ".py",
   "mimetype": "text/x-python",
   "name": "python",
   "nbconvert_exporter": "python",
   "pygments_lexer": "ipython3",
   "version": "3.10.4"
  }
 },
 "nbformat": 4,
 "nbformat_minor": 5
}
