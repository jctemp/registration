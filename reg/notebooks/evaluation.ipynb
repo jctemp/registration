{
 "cells": [
  {
   "cell_type": "markdown",
   "id": "f402d4ec16c37205",
   "metadata": {
    "collapsed": false
   },
   "source": [
    "# Imports"
   ]
  },
  {
   "cell_type": "code",
   "execution_count": null,
   "id": "initial_id",
   "metadata": {},
   "outputs": [],
   "source": [
    "from pathlib2 import Path\n",
    "import matplotlib.animation as animation\n",
    "import matplotlib.pyplot as plt\n",
    "import pytorch_lightning as pl\n",
    "import torch\n",
    "\n",
    "plt.rcParams[\"animation.html\"] = \"jshtml\"\n",
    "plt.rcParams[\"animation.embed_limit\"] = 2048\n",
    "plt.rcParams['figure.dpi'] = 150\n",
    "%matplotlib inline"
   ]
  },
  {
   "cell_type": "code",
   "execution_count": null,
   "id": "c627af0a836694c",
   "metadata": {
    "collapsed": false
   },
   "outputs": [],
   "source": [
    "from reg.dataset import LungDataModule\n",
    "from reg.model import TransMorphModule\n",
    "from reg.utils import load_losses, load_model_params"
   ]
  },
  {
   "cell_type": "markdown",
   "id": "92f8aa9362404dd8",
   "metadata": {
    "collapsed": false
   },
   "source": [
    "# Load models"
   ]
  },
  {
   "cell_type": "code",
   "execution_count": null,
   "id": "ccbc23414e05270c",
   "metadata": {
    "collapsed": false
   },
   "outputs": [],
   "source": [
    "ckpt_dirs = [\n",
    "    \"model_weights_v2/transmorph-gmi=1-gl2d=1-adam-0.0001-mean-100-32-norm\",\n",
    "    \"model_weights_v2/transmorph-gmi=1-gl2d=1-adam-0.0001-last-100-32-norm\"\n",
    "]"
   ]
  },
  {
   "cell_type": "code",
   "execution_count": null,
   "id": "a69730413f2fcd14",
   "metadata": {
    "collapsed": false
   },
   "outputs": [],
   "source": [
    "def load_best_model(ckpt_dir):\n",
    "    ckpt_dir = Path(ckpt_dir)\n",
    "    ckpt_file_names = sorted([c.name for c in ckpt_dir.glob(\"*.ckpt\")], reverse=True)\n",
    "    \n",
    "    best_ckpt = ckpt_dir / ckpt_file_names[0]\n",
    "    val_loss, epoch = ckpt_file_names[0].split(\"&\")\n",
    "    val_loss = val_loss.split(\"=\")[1]\n",
    "    epoch = epoch.split(\"=\")[1].split(\".\")[0]\n",
    "\n",
    "    ident = str(ckpt_dir.name).split(\"-\")\n",
    "    if len(ident) == 9:\n",
    "        model_name, image_loss, flow_loss, optimizer_name, lr, target_type, max_epoch, series_len, data_mod = ident\n",
    "    else:\n",
    "        model_name, model_ver, image_loss, flow_loss, optimizer_name, lr, target_type, max_epoch, series_len, data_mod = ident\n",
    "        model_name = f\"{model_name}-{model_ver}\"\n",
    "\n",
    "    target_type = str.lower(target_type)\n",
    "    series_len = int(series_len)\n",
    "    max_epoch = int(max_epoch)\n",
    "\n",
    "    image_losses, flow_losses = load_losses(image_loss, flow_loss, delimiter=\"=\")\n",
    "    \n",
    "    net, criteria_image, criteria_flow, criterion_disp, optimizer = load_model_params(\n",
    "        model_name=model_name,\n",
    "        image_losses=image_losses,\n",
    "        flow_losses=flow_losses,\n",
    "        optimizer_name=None,\n",
    "        series_len=series_len)\n",
    "\n",
    "    model = TransMorphModule.load_from_checkpoint(\n",
    "        str(best_ckpt),\n",
    "        strict=False,\n",
    "        net=net,\n",
    "        criteria_image=criteria_image,\n",
    "        criteria_flow=criteria_flow,\n",
    "        criterion_disp=criterion_disp,\n",
    "        target_type=target_type,\n",
    "    )\n",
    "\n",
    "    print(\"=\" * 80)\n",
    "    print(f\"Best performing model\")\n",
    "    print(\"\")\n",
    "    print(f\"    val_loss    : {val_loss}\")\n",
    "    print(f\"    epoch       : {epoch}\")\n",
    "    print(\"\")\n",
    "    print(f\"    model_name  : {model_name}\")\n",
    "    print(f\"    image_loss  : {criteria_image}\")\n",
    "    print(f\"    flow_loss   : {criteria_flow}\")\n",
    "    print(f\"    disp_loss   : {criterion_disp}\")\n",
    "    print(f\"    target_type : {target_type}\")\n",
    "    print(f\"    max_epoch   : {max_epoch}\")\n",
    "    print(f\"    series_len  : {series_len}\")\n",
    "    print(f\"    data_mod    : {data_mod}\")\n",
    "    print(\"\")\n",
    "    print(\"=\" * 80)\n",
    "\n",
    "    return model, data_mod"
   ]
  },
  {
   "cell_type": "code",
   "execution_count": null,
   "id": "b6171d8dd7f85036",
   "metadata": {
    "collapsed": false
   },
   "outputs": [],
   "source": [
    "loaded = [load_best_model(ckpt_dir) for ckpt_dir in ckpt_dirs]\n",
    "models = [model for model, _ in loaded]\n",
    "data_mods = [data_mod for _, data_mod in loaded]\n",
    "assert all(data_mods[0] == x for x in data_mods)\n",
    "data_mod = data_mods[0]"
   ]
  },
  {
   "cell_type": "markdown",
   "id": "d7ae1702cc784ca9",
   "metadata": {
    "collapsed": false
   },
   "source": [
    "# Run predictions"
   ]
  },
  {
   "cell_type": "code",
   "execution_count": null,
   "id": "95784f38c4e80dcc",
   "metadata": {
    "collapsed": false
   },
   "outputs": [],
   "source": [
    "data_module = LungDataModule(batch_size=1, num_workers=12, pin_memory=True, mod=data_mod)\n",
    "data_module.setup()\n",
    "data_loader = data_module.test_dataloader()"
   ]
  },
  {
   "cell_type": "code",
   "execution_count": null,
   "id": "3e73a6ad05dbc9c9",
   "metadata": {
    "collapsed": false
   },
   "outputs": [],
   "source": [
    "trainer = pl.Trainer()\n",
    "torch.set_float32_matmul_precision(\"high\")"
   ]
  },
  {
   "cell_type": "code",
   "execution_count": null,
   "id": "5cba84892038301",
   "metadata": {
    "collapsed": false
   },
   "outputs": [],
   "source": [
    "%%script echo \"No action\"\n",
    "results = [trainer.test(model, data_loader) for model in models]"
   ]
  },
  {
   "cell_type": "code",
   "execution_count": null,
   "id": "ddda71093f0a505d",
   "metadata": {
    "collapsed": false
   },
   "outputs": [],
   "source": [
    "# may require resources big times\n",
    "predictions = [trainer.predict(model, data_loader) for model in models]"
   ]
  },
  {
   "cell_type": "markdown",
   "id": "8281c9e03039fb15",
   "metadata": {
    "collapsed": false
   },
   "source": [
    "# Create visualisation"
   ]
  },
  {
   "cell_type": "code",
   "execution_count": null,
   "id": "31a871d54f17880",
   "metadata": {
    "collapsed": false
   },
   "outputs": [],
   "source": [
    "def transform(warped_series, flow_series, disp_series, fixed_image):\n",
    "    # re-order channels of outputs (t, w, h, c)\n",
    "    warped_series = warped_series[0].detach().cpu().permute(dim)\n",
    "    flow_series = flow_series[0].detach().cpu().permute(dim)\n",
    "\n",
    "    # create diff map using comparison to neighbour\n",
    "    abs_diff_series = torch.stack([torch.abs(w - fixed_image) for w in warped_series], dim=0)\n",
    "\n",
    "    # create displacement vector field colour map\n",
    "    flow_series = torch.tanh(flow_series[:, :, :])\n",
    "    flows_x = (flow_series[:, :, :, 0] + 1) / 2\n",
    "    flows_y = (flow_series[:, :, :, 1] + 1) / 2\n",
    "    flows_z = flows_x * 0\n",
    "    flow_series = torch.stack([flows_x, flows_y, flows_z], dim=-1)\n",
    "    \n",
    "    return warped_series, flow_series, disp_series, abs_diff_series"
   ]
  },
  {
   "cell_type": "code",
   "execution_count": null,
   "id": "2fbd8813a62c2d29",
   "metadata": {
    "collapsed": false
   },
   "outputs": [],
   "source": [
    "# nums = [0, 3, 6, 9, 12]\n",
    "nums = [6]\n",
    "subset_moving = []\n",
    "subsets_warped = [] # [ [a,b,c], [a,b,c] ] \n",
    "\n",
    "for pred in predictions:\n",
    "    subsets_warped.append([pred[i] for i in nums])\n",
    "\n",
    "for i, batch in enumerate(data_loader):\n",
    "    if i in nums:\n",
    "        subset_moving.append(batch)"
   ]
  },
  {
   "cell_type": "code",
   "execution_count": null,
   "id": "d1040fd44e90f0d2",
   "metadata": {
    "collapsed": false
   },
   "outputs": [],
   "source": [
    "show_title = True\n",
    "data = []\n",
    "dim = (3, 1, 2, 0)\n",
    "\n",
    "for i, moving in enumerate(subset_moving):\n",
    "    moving_p = moving[0].detach().cpu().permute(dim)\n",
    "    transformed = [transform(subset_warped[i][0], subset_warped[i][1], subset_warped[i][2],  models[k].fixed_image(moving)[0].permute((1,2,0))) for k, subset_warped in\n",
    "                   enumerate(subsets_warped)]\n",
    "    data.append((moving_p, fixed, transformed))"
   ]
  },
  {
   "cell_type": "code",
   "execution_count": null,
   "id": "f8bc8487c3086d85",
   "metadata": {
    "collapsed": false
   },
   "outputs": [],
   "source": [
    "num_cols = 5\n",
    "num_rows = len(nums) * len(predictions)\n",
    "fig, axs = plt.subplots(ncols=num_cols, nrows=num_rows, figsize=(2 * num_cols, 2 * num_rows))\n",
    "axs = axs.flatten()\n",
    "imgs = []\n",
    "\n",
    "for i in range(len(nums)):\n",
    "    row_offset = i * num_cols * len(predictions)\n",
    "    \n",
    "    if show_title and i == 0:       \n",
    "        axs[row_offset + 0].set(title=r\"$\\mathit{m}$\")\n",
    "        axs[row_offset + 1].set(title=r\"$\\mathit{f}$\")\n",
    "        axs[row_offset + 2].set(title=r\"$\\mathit{m \\circ \\phi}$\")\n",
    "        axs[row_offset + 3].set(title=r\"$\\mathit{\\left| \\; (m \\circ \\phi) - f \\; \\right|}$\")\n",
    "        axs[row_offset + 4].set(title=r\"$\\mathit{\\phi}$\")\n",
    "\n",
    "    m, f, t = data[i]\n",
    "\n",
    "    for k in range(num_cols * len(predictions)):\n",
    "        axs[row_offset + k].set(xticklabels=[], yticklabels=[], xticks=[], yticks=[], aspect=\"equal\")\n",
    "\n",
    "    for k in range(len(predictions)):\n",
    "        ws, fs, _, ds = t[k]\n",
    "        imgs.append(axs[row_offset + k * num_cols + 0].imshow(m[0], cmap=\"gray\", animated=True))\n",
    "        imgs.append(axs[row_offset + k * num_cols + 1].imshow(f, cmap=\"gray\"))\n",
    "        imgs.append(axs[row_offset + k * num_cols + 2].imshow(ws[0], cmap=\"gray\", animated=True))\n",
    "        imgs.append(axs[row_offset + k * num_cols + 3].imshow(ds[0], cmap=\"gray\", animated=True))\n",
    "        imgs.append(axs[row_offset + k * num_cols + 4].imshow(fs[0], cmap=\"gray\", animated=True))\n",
    "        \n",
    "def animate(delta):\n",
    "    for i in range(len(nums)):\n",
    "        row_offset = i * num_cols * len(predictions)\n",
    "        m, f, t = data[i]    \n",
    "\n",
    "        for k in range(len(predictions)):\n",
    "            ws, fs, _, ds = t[k]\n",
    "            imgs[row_offset + k * num_cols + 0].set_data(m[delta])\n",
    "            imgs[row_offset + k * num_cols + 2].set_data(ws[delta])\n",
    "            imgs[row_offset + k * num_cols + 3].set_data(ds[delta])\n",
    "            imgs[row_offset + k * num_cols + 4].set_data(fs[delta])\n",
    "\n",
    "    return imgs\n",
    "\n",
    "animation.FuncAnimation(fig, animate, frames=200, blit=True)"
   ]
  },
  {
   "cell_type": "code",
   "execution_count": null,
   "id": "9354f6ee-3fca-4596-b1a5-215d7b7ac0d3",
   "metadata": {},
   "outputs": [],
   "source": []
  }
 ],
 "metadata": {
  "kernelspec": {
   "display_name": "Python 3 (ipykernel)",
   "language": "python",
   "name": "python3"
  },
  "language_info": {
   "codemirror_mode": {
    "name": "ipython",
    "version": 3
   },
   "file_extension": ".py",
   "mimetype": "text/x-python",
   "name": "python",
   "nbconvert_exporter": "python",
   "pygments_lexer": "ipython3",
   "version": "3.10.4"
  }
 },
 "nbformat": 4,
 "nbformat_minor": 5
}
